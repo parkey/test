{
 "metadata": {},
 "nbformat": 3,
 "nbformat_minor": 0,
 "worksheets": [
  {
   "cells": [
    {
     "cell_type": "code",
     "collapsed": false,
     "input": [
      "%matplotlib inline\n",
      "import matplotlib.pyplot as plt\n",
      "import matplotlib\n",
      "matplotlib.use('nbagg')\n",
      "import numpy as np\n",
      "from IPython.html.widgets import interact\n",
      "from sympy.utilities.lambdify import lambdify\n",
      "from sympy import *"
     ],
     "language": "python",
     "metadata": {},
     "outputs": [],
     "prompt_number": 4
    },
    {
     "cell_type": "code",
     "collapsed": false,
     "input": [
      "def set_size(width, height):\n",
      "    's\u00e4tter bredd och h\u00f6jd i centimeter'\n",
      "    plt.figure(figsize=(width/2.54, height/2.54), dpi=600)\n",
      "\n",
      "def set_ax():\n",
      "    's\u00e4tter upp koordinatsystemet'\n",
      "    plt.axis('equal')\n",
      "    ax = plt.gca()\n",
      "    ax.spines['top'].set_color('none')\n",
      "    ax.spines['right'].set_color('none')\n",
      "    ax.spines['left'].set_position('center')\n",
      "    ax.spines['bottom'].set_position('center')\n",
      "    ax.xaxis.set_ticks_position('bottom')\n",
      "    ax.yaxis.set_ticks_position('left')\n",
      "\n",
      "def set_ticks():\n",
      "    's\u00e4tter ut v\u00e4rden p\u00e5 axlarna'\n",
      "\n",
      "    plt.xticks(\n",
      "     (-np.pi, -np.pi/2,0,np.pi/2, np.pi),\n",
      "     ('$-\\pi$', '$-\\pi/2$', '', '$\\pi/2$', '$\\pi$')\n",
      "    )\n",
      "\n",
      "    plt.yticks(\n",
      "     (-1, -1/2, 0, 1/2, 1),\n",
      "     ('$-1$', '', '', '', '$1$')\n",
      "    )\n"
     ],
     "language": "python",
     "metadata": {},
     "outputs": [],
     "prompt_number": 5
    },
    {
     "cell_type": "heading",
     "level": 3,
     "metadata": {},
     "source": [
      "Plotta trigononmetrisk funktion med dess derivata och primitiva funktion"
     ]
    },
    {
     "cell_type": "code",
     "collapsed": false,
     "input": [
      "from sympy.abc import x\n",
      "import re\n",
      "\n",
      "def l(f):\n",
      "    return lambdify(x, f, modules=('numpy',))\n",
      "\n",
      "f1 = sin(x)\n",
      "\n",
      "X = np.linspace(-np.pi, np.pi)\n",
      "\n",
      "def _lt(expr):\n",
      "    '''denna snyggar till latex fr\u00e5n sympy'''\n",
      "    l = latex(expr)\n",
      "    # ta bort ett \u00f6verfl\u00f6digt par parenteser ur latex-str\u00e4ngen\n",
      "    e = re.sub('\\\\\\\\left \\((.*) \\\\\\\\right \\)', '\\, \\\\1', l)\n",
      "    # infoga lite utrymme f\u00f6re funktionen\n",
      "    e = re.sub('(\\\\\\\\[sin|cos|tan])', '\\, \\\\1', e)\n",
      "    return e\n",
      "\n",
      "@interact(i=(1,5))\n",
      "def run(i):\n",
      "    set_size(40,20)\n",
      "    set_ax()\n",
      "    f0 = sin(x)\n",
      "    f1 = f0.replace(x, x*i)\n",
      "    f2 = diff(f1)\n",
      "    f3 = integrate(f1)\n",
      "    plt.plot(X, l(f0)(X), label='$ f\\,(x) = \\, {} $'.format(_lt(f0)))\n",
      "    plt.plot(X, l(f1)(X), label='$ f\\,(x) = \\, {} $'.format(_lt(f1)))\n",
      "    plt.plot(X, l(f2)(X), label='$ f \\, \\prime \\, (x) = \\, \\mathrm{{D}} \\, {} \\, = \\, {}$'.format(_lt(f1), _lt(f2)))\n",
      "    plt.plot(X, l(f3)(X), label='$ F\\,(x) = \\int \\,\\, {} \\, \\mathrm{{d}}x \\, = \\, {} $'.format(_lt(f1), _lt(f3)))\n",
      "    lg = plt.legend()\n"
     ],
     "language": "python",
     "metadata": {},
     "outputs": [
      {
       "metadata": {},
       "output_type": "display_data",
       "text": [
        "<matplotlib.figure.Figure at 0x7f36a5b72ba8>"
       ]
      }
     ],
     "prompt_number": 6
    }
   ],
   "metadata": {}
  }
 ]
}
