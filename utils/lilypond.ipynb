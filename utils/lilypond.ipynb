{
 "metadata": {
  "name": "",
  "signature": "sha256:c383acfde14b2bb1970bf807ba7198e7f13443ffc2ef57e8f372c4e9e8202af0"
 },
 "nbformat": 3,
 "nbformat_minor": 0,
 "worksheets": [
  {
   "cells": [
    {
     "cell_type": "heading",
     "level": 3,
     "metadata": {},
     "source": [
      "LILYPOND: Skapa musik-snippets fr\u00e5n IPython"
     ]
    },
    {
     "cell_type": "code",
     "collapsed": false,
     "input": [
      "from IPython.core.display import display\n",
      "from IPython.core.display import Image\n",
      "\n",
      "def show(data, filename='lilypond_temp'):\n",
      "    '''denna skriver ut noter fr\u00e5n lilypond-uppm\u00e4rkning'''\n",
      "\n",
      "    template='''\\\n",
      "\\\\version \"2.14.2\"\n",
      "\\\\header {{\n",
      "  tagline = \"\"  % removed\n",
      "}}\n",
      "{{\n",
      "  {}\n",
      "}}\n",
      "'''\n",
      "    with open('{}.ly'.format(filename), 'w') as f:\n",
      "        f.write(template.format(data))\n",
      "\n",
      "    get_ipython().run_cell_magic('bash', '', '''\\\n",
      "lilypond --png {0}.ly > /dev/null 2>&1\n",
      "#lilypond --png {0}.ly\n",
      "convert -trim {0}.png {0}.png\n",
      "'''.format(filename))\n",
      "\n",
      "    display(Image(filename='{}.png'.format(filename)))\n",
      "\n",
      "#plocka ut sida fr\u00e5n pdf\n",
      "#from IPython.display import display\n",
      "#from wand.image import Image as WImage\n",
      "#img = WImage(filename='test1.pdf')\n",
      "#display(img)"
     ],
     "language": "python",
     "metadata": {},
     "outputs": [],
     "prompt_number": 14
    },
    {
     "cell_type": "heading",
     "level": 6,
     "metadata": {},
     "source": [
      "Testa, men inte om modulen \u00e4r importerad"
     ]
    },
    {
     "cell_type": "code",
     "collapsed": false,
     "input": [
      "if __name__ == '__main__':\n",
      "    show(\"c'\")"
     ],
     "language": "python",
     "metadata": {},
     "outputs": [
      {
       "metadata": {},
       "output_type": "display_data",
       "png": "[encoded data removed]",
       "text": [
        "<IPython.core.display.Image at 0x7f2b85fe06d8>"
       ]
      }
     ],
     "prompt_number": 15
    },
    {
     "cell_type": "code",
     "collapsed": false,
     "input": [],
     "language": "python",
     "metadata": {},
     "outputs": [],
     "prompt_number": 15
    }
   ],
   "metadata": {}
  }
 ]
}