{
 "metadata": {
  "name": "",
  "signature": "sha256:187ddc962d56f63e5d82cf3dd05af536b1e1e2265f4bf95b6bc600e2970ec18d"
 },
 "nbformat": 3,
 "nbformat_minor": 0,
 "worksheets": [
  {
   "cells": [
    {
     "cell_type": "code",
     "collapsed": false,
     "input": [
      "%load README.md"
     ],
     "language": "python",
     "metadata": {},
     "outputs": [],
     "prompt_number": 2
    },
    {
     "cell_type": "markdown",
     "metadata": {},
     "source": [
      "# IPython Notebook\n",
      "\n",
      "\n",
      "Fil|Beskrivning\n",
      "---|-----------\n",
      "[graph1.ipynb](http://nbviewer.ipython.org/github/parkey/test/blob/master/graph1.ipynb?2) | Plotta sinuskurvan med syskonkurvor\n",
      "\n"
     ]
    }
   ],
   "metadata": {}
  }
 ]
}