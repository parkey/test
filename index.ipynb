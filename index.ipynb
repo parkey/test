{
 "metadata": {
  "name": "",
  "signature": "sha256:9d67dbc5999f8c381be654ffbf8b1724b1606f80eff3b99cc29011ba7b489d7a"
 },
 "nbformat": 3,
 "nbformat_minor": 0,
 "worksheets": [
  {
   "cells": [
    {
     "cell_type": "markdown",
     "metadata": {},
     "source": [
      "# IPython Notebook\n",
      "\n",
      "\n",
      "Fil|Beskrivning\n",
      "---|-----------\n",
      "[graph1.ipynb](graph1.ipynb) | Plotta sinuskurvan med syskonkurvor\n",
      "\n"
     ]
    }
   ],
   "metadata": {}
  }
 ]
}